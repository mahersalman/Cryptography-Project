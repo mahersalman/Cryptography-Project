{
  "nbformat": 4,
  "nbformat_minor": 0,
  "metadata": {
    "colab": {
      "provenance": [],
      "include_colab_link": true
    },
    "kernelspec": {
      "name": "python3",
      "display_name": "Python 3"
    },
    "language_info": {
      "name": "python"
    }
  },
  "cells": [
    {
      "cell_type": "markdown",
      "metadata": {
        "id": "view-in-github",
        "colab_type": "text"
      },
      "source": [
        "<a href=\"https://colab.research.google.com/github/mahersalman/Cryptography-Project/blob/main/Group_Cloud_Computing.ipynb\" target=\"_parent\"><img src=\"https://colab.research.google.com/assets/colab-badge.svg\" alt=\"Open In Colab\"/></a>"
      ]
    },
    {
      "cell_type": "markdown",
      "source": [
        "#Connect TO Drive"
      ],
      "metadata": {
        "id": "qPbZNmZLeUnf"
      }
    },
    {
      "cell_type": "code",
      "source": [
        "from google.colab import drive\n",
        "drive.mount('/content/drive')"
      ],
      "metadata": {
        "colab": {
          "base_uri": "https://localhost:8080/"
        },
        "id": "Z2ZvQQ0oeUHK",
        "outputId": "ded2d5e9-e5bf-430f-baa2-64b18bdc5326"
      },
      "execution_count": 70,
      "outputs": [
        {
          "output_type": "stream",
          "name": "stdout",
          "text": [
            "Drive already mounted at /content/drive; to attempt to forcibly remount, call drive.mount(\"/content/drive\", force_remount=True).\n"
          ]
        }
      ]
    },
    {
      "cell_type": "markdown",
      "source": [
        "# Read File Information"
      ],
      "metadata": {
        "id": "JJQ0ENjict2R"
      }
    },
    {
      "cell_type": "code",
      "source": [
        "ls"
      ],
      "metadata": {
        "colab": {
          "base_uri": "https://localhost:8080/"
        },
        "id": "VD-r3RZ9edmI",
        "outputId": "a99a328c-6518-42d3-8d34-7b94fff92358"
      },
      "execution_count": 71,
      "outputs": [
        {
          "output_type": "stream",
          "name": "stdout",
          "text": [
            "\u001b[0m\u001b[01;34m'Colab Notebooks'\u001b[0m/   \u001b[01;34mData_Mining\u001b[0m/   \u001b[01;34mProject\u001b[0m/  \u001b[01;34m'Software Engineering'\u001b[0m/\n"
          ]
        }
      ]
    },
    {
      "cell_type": "code",
      "source": [
        "cd /content/drive/MyDrive/"
      ],
      "metadata": {
        "colab": {
          "base_uri": "https://localhost:8080/"
        },
        "id": "iwg6tonpdw1X",
        "outputId": "85befc73-3bf1-4f50-8478-f5cca13720e4"
      },
      "execution_count": 72,
      "outputs": [
        {
          "output_type": "stream",
          "name": "stdout",
          "text": [
            "/content/drive/MyDrive\n"
          ]
        }
      ]
    },
    {
      "cell_type": "code",
      "execution_count": 74,
      "metadata": {
        "id": "SiwFtTrpLpJq",
        "colab": {
          "base_uri": "https://localhost:8080/",
          "height": 211
        },
        "outputId": "43bd32b8-7e17-4d91-8a54-d4ab521af74b"
      },
      "outputs": [
        {
          "output_type": "error",
          "ename": "FileNotFoundError",
          "evalue": "[Errno 2] No such file or directory: 'student.txt'",
          "traceback": [
            "\u001b[0;31m---------------------------------------------------------------------------\u001b[0m",
            "\u001b[0;31mFileNotFoundError\u001b[0m                         Traceback (most recent call last)",
            "\u001b[0;32m<ipython-input-74-00e903419f52>\u001b[0m in \u001b[0;36m<cell line: 2>\u001b[0;34m()\u001b[0m\n\u001b[1;32m      1\u001b[0m \u001b[0mGroup\u001b[0m \u001b[0;34m=\u001b[0m \u001b[0;34m{\u001b[0m\u001b[0;34m}\u001b[0m\u001b[0;34m\u001b[0m\u001b[0;34m\u001b[0m\u001b[0m\n\u001b[0;32m----> 2\u001b[0;31m \u001b[0;32mwith\u001b[0m \u001b[0mopen\u001b[0m\u001b[0;34m(\u001b[0m\u001b[0;34m'student.txt'\u001b[0m\u001b[0;34m,\u001b[0m \u001b[0;34m'r'\u001b[0m\u001b[0;34m)\u001b[0m \u001b[0;32mas\u001b[0m \u001b[0mfile\u001b[0m\u001b[0;34m:\u001b[0m\u001b[0;34m\u001b[0m\u001b[0;34m\u001b[0m\u001b[0m\n\u001b[0m\u001b[1;32m      3\u001b[0m     \u001b[0mlines\u001b[0m \u001b[0;34m=\u001b[0m \u001b[0mfile\u001b[0m\u001b[0;34m.\u001b[0m\u001b[0mreadlines\u001b[0m\u001b[0;34m(\u001b[0m\u001b[0;34m)\u001b[0m\u001b[0;34m\u001b[0m\u001b[0;34m\u001b[0m\u001b[0m\n\u001b[1;32m      4\u001b[0m     \u001b[0mi\u001b[0m \u001b[0;34m=\u001b[0m \u001b[0;36m0\u001b[0m\u001b[0;34m\u001b[0m\u001b[0;34m\u001b[0m\u001b[0m\n\u001b[1;32m      5\u001b[0m     \u001b[0;32mfor\u001b[0m \u001b[0ml\u001b[0m \u001b[0;32min\u001b[0m \u001b[0mlines\u001b[0m\u001b[0;34m:\u001b[0m\u001b[0;34m\u001b[0m\u001b[0;34m\u001b[0m\u001b[0m\n",
            "\u001b[0;31mFileNotFoundError\u001b[0m: [Errno 2] No such file or directory: 'student.txt'"
          ]
        }
      ],
      "source": [
        "Group = {}\n",
        "with open('student.txt', 'r') as file:\n",
        "    lines = file.readlines()\n",
        "    i = 0\n",
        "    for l in lines:\n",
        "      student = l.split()\n",
        "      Group[student[0]+\" \"+student[1]] = [student[2],student[3],student[4]]\n",
        "      i+=1\n"
      ]
    },
    {
      "cell_type": "markdown",
      "source": [
        "# Group Form\n"
      ],
      "metadata": {
        "id": "yGVeLDw0hHWd"
      }
    },
    {
      "cell_type": "code",
      "source": [
        "# @title Names\n",
        "import ipywidgets as widgets\n",
        "from IPython.display import display\n",
        "\n",
        "dropdown = widgets.Dropdown(\n",
        "    options = Group.keys()\n",
        ")\n",
        "\n",
        "display(dropdown)\n",
        "\n",
        "\n"
      ],
      "metadata": {
        "id": "tLvgycXUhl90"
      },
      "execution_count": null,
      "outputs": []
    },
    {
      "cell_type": "markdown",
      "source": [
        "# Student Information"
      ],
      "metadata": {
        "id": "MoGqeEnupGYl"
      }
    },
    {
      "cell_type": "code",
      "source": [
        "# @title Default title text\n",
        "chosen_name = dropdown.value\n",
        "information = Group[chosen_name]\n",
        "\n",
        "print(\"Full Name : \" , chosen_name)\n",
        "print(\"Email : \" , information[0])\n",
        "print(\"Courses : \" , information[1])\n",
        "print(\"Link : \" , information[2])\n",
        "\n",
        "\n"
      ],
      "metadata": {
        "id": "bXTGT5H4pF-W"
      },
      "execution_count": null,
      "outputs": []
    },
    {
      "cell_type": "markdown",
      "source": [
        "#Update Interseted Topic"
      ],
      "metadata": {
        "id": "uOZSoLMqsiBl"
      }
    },
    {
      "cell_type": "code",
      "source": [
        "# @title Default title text\n",
        "interested_topic = \"SpongBob\" # @param {type:\"string\"}\n",
        "with open('student.txt', 'a') as file:\n",
        "    information\n",
        "    file.write(\"\\n\"+chosen_name+\" \"+information[0]+\" \"+information[1]+\" \"+information[2]+\" \" +interested_topic)\n"
      ],
      "metadata": {
        "id": "KP87Mweps0T7"
      },
      "execution_count": null,
      "outputs": []
    }
  ]
}